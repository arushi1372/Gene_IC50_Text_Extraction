{
 "cells": [
  {
   "cell_type": "markdown",
   "metadata": {},
   "source": [
    "/*\n",
    "Welcome to this notebook! Here we extract IC50/Ki values and their corresponding categories from the text, and combine them with the extracted genes to output a tsv file with extracted information for each id.\n",
    "*/"
   ]
  },
  {
   "cell_type": "code",
   "execution_count": 1,
   "metadata": {},
   "outputs": [],
   "source": [
    "import numpy as np\n",
    "import pandas as pd\n",
    "import nltk\n",
    "from nltk.corpus import stopwords\n",
    "import string\n",
    "import collections\n",
    "import re\n",
    "import json"
   ]
  },
  {
   "cell_type": "code",
   "execution_count": 2,
   "metadata": {},
   "outputs": [],
   "source": [
    "simple_home = '/Users/Arushi/Desktop/twoXAR/deep-learn-bio-nlp-master'\n",
    "file = open('{0}/simple_eval.eval'.format(simple_home), 'r')\n",
    "gene_output = file.readlines()"
   ]
  },
  {
   "cell_type": "code",
   "execution_count": 3,
   "metadata": {},
   "outputs": [],
   "source": [
    "df = pd.read_csv(\"parsed_mce_simple.tsv\", sep=\"\\t\", header = None)"
   ]
  },
  {
   "cell_type": "code",
   "execution_count": 4,
   "metadata": {},
   "outputs": [],
   "source": [
    "stop_words = set(stopwords.words('english'))"
   ]
  },
  {
   "cell_type": "code",
   "execution_count": 5,
   "metadata": {},
   "outputs": [],
   "source": [
    "def ie_preprocess(document):\n",
    "    sentences = nltk.sent_tokenize(document)\n",
    "    sentences = [nltk.word_tokenize(sent) for sent in sentences]\n",
    "    sentences = [w for sent in sentences for w in sent if not w in stop_words]\n",
    "    sentences = [w for w in sentences if not w in string.punctuation]\n",
    "    sentences = nltk.pos_tag(sentences)\n",
    "    return sentences"
   ]
  },
  {
   "cell_type": "code",
   "execution_count": 6,
   "metadata": {},
   "outputs": [],
   "source": [
    "preprocess_list = list(df[2])"
   ]
  },
  {
   "cell_type": "code",
   "execution_count": 7,
   "metadata": {},
   "outputs": [],
   "source": [
    "'''\n",
    "Cleaning the data. The regex expression catches strings without oxford commas to prevent averaging between two dosage \n",
    "values. In addition, slashes are replaced with commas for cleaner separation, and the special character µ becomes u.\n",
    "'''\n",
    "preprocessed = []\n",
    "p = re.compile(r'([\\w\\d\\.]+)((?:,\\s*[\\w\\d\\.]+)+)\\s+(and|or)\\s+([\\w\\d\\.]+)')\n",
    "for sentence in preprocess_list:\n",
    "    list_all = [x.group(0) for x in re.finditer(p, sentence)]\n",
    "    for match in list_all:\n",
    "        sentence = re.sub(match, re.sub(r' and',r', and', match), sentence)\n",
    "    sentence = re.sub('/',',', sentence)\n",
    "    sentence = re.sub(u'\\u03BC', 'u', sentence)\n",
    "    preprocessed.append(ie_preprocess(sentence))"
   ]
  },
  {
   "cell_type": "code",
   "execution_count": 8,
   "metadata": {},
   "outputs": [],
   "source": [
    "'''\n",
    "Use NLTK pos tagging to identify the category of each dosage value.\n",
    "'''\n",
    "total = []\n",
    "for sentence in preprocessed:\n",
    "    #find the tuple(s) with CD (numerical values) \n",
    "    #get next NN for each (order of mag. units) and find closest NNP beforehand (IC50 or Ki)\n",
    "    ic50_vals = []\n",
    "    for index in range(len(sentence)):\n",
    "        word, label = sentence[index]\n",
    "        if label == 'CD':\n",
    "            #find next NN\n",
    "            for next_ind in range(index + 1, len(sentence)):\n",
    "                try:\n",
    "                    word2, label2 = sentence[next_ind]\n",
    "                    if label2 in ['NN', 'RB', 'NNS', 'JJ']:\n",
    "                        #find closest NNP value\n",
    "                        for prev_ind in range(index, -1, -1):\n",
    "                            word3, label3 = sentence[prev_ind]\n",
    "                            if label3 in ['NNP']:\n",
    "                                ic50_vals.append((word3, word, word2))\n",
    "                                break\n",
    "                        break\n",
    "                except IndexError:\n",
    "                    continue\n",
    "    total.append(ic50_vals)"
   ]
  },
  {
   "cell_type": "code",
   "execution_count": 9,
   "metadata": {},
   "outputs": [],
   "source": [
    "'''\n",
    "Corresponds ids to each extraction from above.\n",
    "'''\n",
    "ids = df[0]\n",
    "total_ = {}\n",
    "for index in range(len(ids)):\n",
    "    total_.update({ids[index] : total[index]})"
   ]
  },
  {
   "cell_type": "code",
   "execution_count": 10,
   "metadata": {},
   "outputs": [],
   "source": [
    "'''\n",
    "Removes all occurrences with a category not in the specified list. This part could definitely be improved, since it's\n",
    "probably that there are some entries such that the dosage is correct but the categorical value found is incorrect.\n",
    "'''\n",
    "cleaned = {}\n",
    "for key, value in total_.items():\n",
    "    new_split = []\n",
    "    for item in value:\n",
    "        val, unit, dim = item\n",
    "        if(val in 'IC50 IC50s EC50 EC50s Ki Kis Kd Kds'):\n",
    "            new_split.append(item)\n",
    "    cleaned.update({key : new_split})"
   ]
  },
  {
   "cell_type": "code",
   "execution_count": 11,
   "metadata": {},
   "outputs": [],
   "source": [
    "'''\n",
    "Gets all gene names from the output file produced in deep-learn-bio-nlp-master/BC2 Gene Mention Example.ipynb.\n",
    "'''\n",
    "d = collections.defaultdict(list)\n",
    "for val in gene_output:\n",
    "    l = val.split('\"')\n",
    "    l[0] = l[0].strip()\n",
    "    l[1] = l[1].split(\"|\")[2].strip()\n",
    "    d[l[0]].append(l[1])"
   ]
  },
  {
   "cell_type": "code",
   "execution_count": 12,
   "metadata": {},
   "outputs": [],
   "source": [
    "'''\n",
    "This step could also be improved. Here we basically correspond each gene name to the IC50/Ki value by going in order\n",
    "until one or the other has been exhausted. It's likely that some repeated values are being included and others are \n",
    "being excluded.\n",
    "'''\n",
    "rows_list = []\n",
    "for id_, genes in d.items():\n",
    "    for i in range(len(genes)):\n",
    "        amounts = cleaned[id_]\n",
    "        try:\n",
    "            row = {}\n",
    "            row.update({'id':id_, 'gene':genes[i], 'category':amounts[i][0], 'value':amounts[i][1] + amounts[i][2]})\n",
    "            rows_list.append(row)\n",
    "        except (ValueError, IndexError): \n",
    "            continue"
   ]
  },
  {
   "cell_type": "code",
   "execution_count": 13,
   "metadata": {},
   "outputs": [],
   "source": [
    "dataframe = pd.DataFrame(rows_list)"
   ]
  },
  {
   "cell_type": "code",
   "execution_count": 14,
   "metadata": {},
   "outputs": [],
   "source": [
    "dataframe.to_csv(\"output.tsv\", sep = '\\t', index = False)"
   ]
  }
 ],
 "metadata": {
  "kernelspec": {
   "display_name": "Python 3",
   "language": "python",
   "name": "python3"
  },
  "language_info": {
   "codemirror_mode": {
    "name": "ipython",
    "version": 3
   },
   "file_extension": ".py",
   "mimetype": "text/x-python",
   "name": "python",
   "nbconvert_exporter": "python",
   "pygments_lexer": "ipython3",
   "version": "3.8.2"
  }
 },
 "nbformat": 4,
 "nbformat_minor": 4
}
